{
 "cells": [
  {
   "cell_type": "code",
   "source": [
    "import numpy as np\n",
    "import _thread\n",
    "import threading\n",
    "import time"
   ],
   "metadata": {
    "collapsed": false,
    "pycharm": {
     "name": "#%%\n"
    }
   },
   "execution_count": 49,
   "outputs": []
  },
  {
   "cell_type": "markdown",
   "source": [
    "## 1 Thread-Based Parallelism\n"
   ],
   "metadata": {
    "collapsed": false,
    "pycharm": {
     "name": "#%% md\n"
    }
   }
  },
  {
   "cell_type": "markdown",
   "source": [
    "### 1.1 Python3's Thread Module"
   ],
   "metadata": {
    "collapsed": false,
    "pycharm": {
     "name": "#%% md\n"
    }
   }
  },
  {
   "cell_type": "code",
   "execution_count": 50,
   "outputs": [
    {
     "data": {
      "text/plain": "123145596018688"
     },
     "execution_count": 50,
     "metadata": {},
     "output_type": "execute_result"
    },
    {
     "name": "stdout",
     "output_type": "stream",
     "text": [
      "t1 --------> 1601778690.0630841\n",
      "t1 --------> 1601778691.064995\n",
      "t2 --------> 1601778692.063187\n",
      "t1 --------> 1601778692.066082\n"
     ]
    }
   ],
   "source": [
    "def thread_delay(thread_name, delay):\n",
    "    count = 0\n",
    "    while count < 3:\n",
    "        time.sleep(delay)\n",
    "        count += 1\n",
    "        print(\"{} --------> {}\".format(thread_name, time.time()))\n",
    "\n",
    "\n",
    "_thread.start_new_thread(thread_delay, ('t1', 1))\n",
    "_thread.start_new_thread(thread_delay, ('t2', 3))\n"
   ],
   "metadata": {
    "collapsed": false,
    "pycharm": {
     "name": "#%%\n"
    }
   }
  },
  {
   "cell_type": "code",
   "execution_count": 51,
   "outputs": [
    {
     "name": "stdout",
     "output_type": "stream",
     "text": [
      "\n",
      "...Starting Thread Execution!\n",
      "\n",
      "t1 --------> 1601778693.69116\n",
      "t1 --------> 1601778694.692493\n",
      "t2 --------> 1601778695.065554\n",
      "t2 --------> 1601778695.695394t1 --------> 1601778695.696069\n",
      "\n",
      "t2 --------> 1601778698.067404\n",
      "t2 --------> 1601778698.699871\n",
      "t2 --------> 1601778701.704059\n",
      "\n",
      "...Thread execution is complete!\n"
     ]
    }
   ],
   "source": [
    "t1 = threading.Thread(target=thread_delay, args=('t1', 1))\n",
    "t2 = threading.Thread(target=thread_delay, args=('t2', 3))\n",
    "\n",
    "print(\"\\n...Starting Thread Execution!\\n\")\n",
    "\n",
    "t1.start()\n",
    "t2.start()\n",
    "\n",
    "t1.join()\n",
    "t2.join()\n",
    "\n",
    "print(\"\\n...Thread execution is complete!\")\n"
   ],
   "metadata": {
    "collapsed": false,
    "pycharm": {
     "name": "#%%\n"
    }
   }
  },
  {
   "cell_type": "markdown",
   "source": [
    "## 1.2 Example - Running Two Functions in Parallel\n"
   ],
   "metadata": {
    "collapsed": false
   }
  },
  {
   "cell_type": "code",
   "execution_count": 52,
   "outputs": [
    {
     "name": "stdout",
     "output_type": "stream",
     "text": [
      "\n",
      "...Starting Thread Execution!\n",
      "\n",
      "t1 --------> 1601778734.3993511\n",
      "t1 --------> 1601778735.4028952\n",
      "t2 --------> 1601778736.399734\n",
      "t1 --------> 1601778736.407553\n",
      "t2 --------> 1601778739.400788\n",
      "t2 --------> 1601778742.401149\n",
      "\n",
      "...Thread execution is complete!\n"
     ]
    }
   ],
   "source": [
    "t1 = threading.Thread(target=thread_delay, args=('t1', 1,))  # note: the last empty param is needed.\n",
    "t2 = threading.Thread(target=thread_delay, args=('t2', 3,))\n",
    "\n",
    "print(\"\\n...Starting Thread Execution!\\n\")\n",
    "\n",
    "t1.start()\n",
    "t2.start()\n",
    "\n",
    "t1.join()\n",
    "t2.join()\n",
    "\n",
    "print(\"\\n...Thread execution is complete!\")\n",
    "\n"
   ],
   "metadata": {
    "collapsed": false,
    "pycharm": {
     "name": "#%%\n"
    }
   }
  },
  {
   "cell_type": "markdown",
   "source": [
    "## 1.3 Example - Running Two Functions in Parallel\n"
   ],
   "metadata": {
    "collapsed": false
   }
  },
  {
   "cell_type": "code",
   "execution_count": 57,
   "outputs": [
    {
     "name": "stdout",
     "output_type": "stream",
     "text": [
      "\n",
      "...Starting Thread Execution!\n",
      "\n",
      "t4 --------> 1601779058.071616\n",
      "t4 --------> 1601779059.074304\n",
      "t3 --------> 1601779060.068871\n",
      "t4 --------> 1601779060.074961\n",
      "t3 --------> 1601779063.074528\n",
      "t3 --------> 1601779066.0790458\n",
      "\n",
      "...Thread execution is complete!\n"
     ]
    }
   ],
   "source": [
    "t3 = threading.Thread(target=thread_delay, args=('t3', 3,))  # note: the last empty param is needed.\n",
    "t4 = threading.Thread(target=thread_delay, args=('t4', 1,))\n",
    "\n",
    "print(\"\\n...Starting Thread Execution!\\n\")\n",
    "\n",
    "t3.start()\n",
    "t4.start()\n",
    "\n",
    "t3.join()\n",
    "t4.join()\n",
    "\n",
    "print(\"\\n...Thread execution is complete!\")\n"
   ],
   "metadata": {
    "collapsed": false,
    "pycharm": {
     "name": "#%%\n"
    }
   }
  },
  {
   "cell_type": "markdown",
   "source": [
    "## 1.4 Threading As Sub-Class"
   ],
   "metadata": {
    "collapsed": false
   }
  },
  {
   "cell_type": "code",
   "source": [
    "class SampleThreadClass(threading.Thread):\n",
    "    def __init__(self, name, delay):\n",
    "        threading.Thread.__init__(self)\n",
    "        self.name = name\n",
    "        self.delay = delay\n",
    "\n",
    "\n",
    "    def run(self):\n",
    "        print('\\nStarting Thread: {}'.format(self.name))\n",
    "        thread_delay(self.name,self.delay)\n",
    "        print('\\nExecution of Thread:', self.name, 'is complete!')\n",
    "\n",
    "\n",
    "t1 = SampleThreadClass('t1', 1)\n",
    "t2 = SampleThreadClass('t2', 3)\n",
    "\n",
    "t1.start()\n",
    "t2.start()\n",
    "\n",
    "t1.join()\n",
    "t2.join()\n",
    "\n",
    "print(\"Thread execution is complete!\")\n"
   ],
   "metadata": {
    "collapsed": false,
    "pycharm": {
     "name": "#%%\n"
    }
   },
   "execution_count": 18,
   "outputs": [
    {
     "name": "stdout",
     "output_type": "stream",
     "text": [
      "\n",
      "Starting Thread: t1\n",
      "\n",
      "Starting Thread: t2\n",
      "t1 --------> 1601763415.8714619\n",
      "t1 --------> 1601763416.874858\n",
      "t2 --------> 1601763417.871425\n",
      "t1 --------> 1601763417.876062\n",
      "\n",
      "Execution of Thread: t1 is complete!\n",
      "t2 --------> 1601763420.876114\n",
      "t2 --------> 1601763423.878696\n",
      "\n",
      "Execution of Thread: t2 is complete!\n",
      "Thread execution is complete!\n"
     ]
    }
   ]
  },
  {
   "cell_type": "markdown",
   "source": [
    "## 1.5 More On Thread-based Parallelism\n",
    "\n",
    "TODO: Add Active-Count example\n",
    "\n",
    "TODO: Add Current-Thread example"
   ],
   "metadata": {
    "collapsed": false
   }
  },
  {
   "cell_type": "markdown",
   "source": [
    "# References\n",
    "\n",
    "1. [Threading in Python](https://www.datacamp.com/community/tutorials/threading-in-python)\n",
    "2. [Multiprocessing vs. Threading in Python](https://blog.floydhub.com/multiprocessing-vs-threading-in-python-what-every-data-scientist-needs-to-know/)\n",
    "3. [Python Global Interpreter Lock](https://www.datacamp.com/community/tutorials/python-global-interpreter-lock)\n",
    "4. [Understanding the Python GIL](https://www.dabeaz.com/python/UnderstandingGIL.pdf)"
   ],
   "metadata": {
    "collapsed": false
   }
  }
 ],
 "metadata": {
  "kernelspec": {
   "display_name": "Python 3",
   "language": "python",
   "name": "python3"
  },
  "language_info": {
   "codemirror_mode": {
    "name": "ipython",
    "version": 2
   },
   "file_extension": ".py",
   "mimetype": "text/x-python",
   "name": "python",
   "nbconvert_exporter": "python",
   "pygments_lexer": "ipython2",
   "version": "2.7.6"
  }
 },
 "nbformat": 4,
 "nbformat_minor": 0
}